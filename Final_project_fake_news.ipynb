{
 "cells": [
  {
   "cell_type": "markdown",
   "id": "c4a55e21",
   "metadata": {},
   "source": [
    "Project Name: Predicting Fake News.\n",
    "Project Memeber: Saurabh Chaudhary, Charan Raju M.\n",
    "Cs-675."
   ]
  },
  {
   "cell_type": "code",
   "execution_count": 1,
   "id": "f262f122",
   "metadata": {},
   "outputs": [],
   "source": [
    "import numpy as np\n",
    "import pandas as pd\n",
    "from sklearn.feature_extraction.text import TfidfVectorizer\n",
    "from sklearn.model_selection import train_test_split\n",
    "from sklearn.linear_model import  LogisticRegression\n",
    "from sklearn.metrics import accuracy_score, classification_report\n",
    "import re\n",
    "import string"
   ]
  },
  {
   "cell_type": "code",
   "execution_count": 2,
   "id": "acee47e1",
   "metadata": {},
   "outputs": [],
   "source": [
    "fake_news_path = \"C:\\\\Users\\\\89tom\\\\OneDrive\\\\Desktop\\\\Pace\\\\DataScienceCS675\\\\Project\\\\fake_news\\\\Fake.csv\" \n",
    "actual_news_path = \"C:\\\\Users\\\\89tom\\\\OneDrive\\\\Desktop\\\\Pace\\\\DataScienceCS675\\\\Project\\\\fake_news\\\\True.csv\""
   ]
  },
  {
   "cell_type": "code",
   "execution_count": 3,
   "id": "a6ba4b1f",
   "metadata": {},
   "outputs": [
    {
     "data": {
      "text/html": [
       "<div>\n",
       "<style scoped>\n",
       "    .dataframe tbody tr th:only-of-type {\n",
       "        vertical-align: middle;\n",
       "    }\n",
       "\n",
       "    .dataframe tbody tr th {\n",
       "        vertical-align: top;\n",
       "    }\n",
       "\n",
       "    .dataframe thead th {\n",
       "        text-align: right;\n",
       "    }\n",
       "</style>\n",
       "<table border=\"1\" class=\"dataframe\">\n",
       "  <thead>\n",
       "    <tr style=\"text-align: right;\">\n",
       "      <th></th>\n",
       "      <th>title</th>\n",
       "      <th>text</th>\n",
       "      <th>subject</th>\n",
       "      <th>date</th>\n",
       "    </tr>\n",
       "  </thead>\n",
       "  <tbody>\n",
       "    <tr>\n",
       "      <th>0</th>\n",
       "      <td>Donald Trump Sends Out Embarrassing New Year’...</td>\n",
       "      <td>Donald Trump just couldn t wish all Americans ...</td>\n",
       "      <td>News</td>\n",
       "      <td>December 31, 2017</td>\n",
       "    </tr>\n",
       "    <tr>\n",
       "      <th>1</th>\n",
       "      <td>Drunk Bragging Trump Staffer Started Russian ...</td>\n",
       "      <td>House Intelligence Committee Chairman Devin Nu...</td>\n",
       "      <td>News</td>\n",
       "      <td>December 31, 2017</td>\n",
       "    </tr>\n",
       "    <tr>\n",
       "      <th>2</th>\n",
       "      <td>Sheriff David Clarke Becomes An Internet Joke...</td>\n",
       "      <td>On Friday, it was revealed that former Milwauk...</td>\n",
       "      <td>News</td>\n",
       "      <td>December 30, 2017</td>\n",
       "    </tr>\n",
       "    <tr>\n",
       "      <th>3</th>\n",
       "      <td>Trump Is So Obsessed He Even Has Obama’s Name...</td>\n",
       "      <td>On Christmas day, Donald Trump announced that ...</td>\n",
       "      <td>News</td>\n",
       "      <td>December 29, 2017</td>\n",
       "    </tr>\n",
       "    <tr>\n",
       "      <th>4</th>\n",
       "      <td>Pope Francis Just Called Out Donald Trump Dur...</td>\n",
       "      <td>Pope Francis used his annual Christmas Day mes...</td>\n",
       "      <td>News</td>\n",
       "      <td>December 25, 2017</td>\n",
       "    </tr>\n",
       "  </tbody>\n",
       "</table>\n",
       "</div>"
      ],
      "text/plain": [
       "                                               title  \\\n",
       "0   Donald Trump Sends Out Embarrassing New Year’...   \n",
       "1   Drunk Bragging Trump Staffer Started Russian ...   \n",
       "2   Sheriff David Clarke Becomes An Internet Joke...   \n",
       "3   Trump Is So Obsessed He Even Has Obama’s Name...   \n",
       "4   Pope Francis Just Called Out Donald Trump Dur...   \n",
       "\n",
       "                                                text subject  \\\n",
       "0  Donald Trump just couldn t wish all Americans ...    News   \n",
       "1  House Intelligence Committee Chairman Devin Nu...    News   \n",
       "2  On Friday, it was revealed that former Milwauk...    News   \n",
       "3  On Christmas day, Donald Trump announced that ...    News   \n",
       "4  Pope Francis used his annual Christmas Day mes...    News   \n",
       "\n",
       "                date  \n",
       "0  December 31, 2017  \n",
       "1  December 31, 2017  \n",
       "2  December 30, 2017  \n",
       "3  December 29, 2017  \n",
       "4  December 25, 2017  "
      ]
     },
     "execution_count": 3,
     "metadata": {},
     "output_type": "execute_result"
    }
   ],
   "source": [
    "# importing fake news dataset\n",
    "df_fake = pd.read_csv(fake_news_path)\n",
    "df_fake.head()"
   ]
  },
  {
   "cell_type": "code",
   "execution_count": 4,
   "id": "73afda23",
   "metadata": {},
   "outputs": [],
   "source": [
    "# adding a new column for classification\n",
    "# 1 means fake & 0 means actual news"
   ]
  },
  {
   "cell_type": "code",
   "execution_count": 5,
   "id": "80451506",
   "metadata": {},
   "outputs": [
    {
     "data": {
      "text/html": [
       "<div>\n",
       "<style scoped>\n",
       "    .dataframe tbody tr th:only-of-type {\n",
       "        vertical-align: middle;\n",
       "    }\n",
       "\n",
       "    .dataframe tbody tr th {\n",
       "        vertical-align: top;\n",
       "    }\n",
       "\n",
       "    .dataframe thead th {\n",
       "        text-align: right;\n",
       "    }\n",
       "</style>\n",
       "<table border=\"1\" class=\"dataframe\">\n",
       "  <thead>\n",
       "    <tr style=\"text-align: right;\">\n",
       "      <th></th>\n",
       "      <th>title</th>\n",
       "      <th>text</th>\n",
       "      <th>subject</th>\n",
       "      <th>date</th>\n",
       "      <th>classification</th>\n",
       "    </tr>\n",
       "  </thead>\n",
       "  <tbody>\n",
       "    <tr>\n",
       "      <th>0</th>\n",
       "      <td>Donald Trump Sends Out Embarrassing New Year’...</td>\n",
       "      <td>Donald Trump just couldn t wish all Americans ...</td>\n",
       "      <td>News</td>\n",
       "      <td>December 31, 2017</td>\n",
       "      <td>1</td>\n",
       "    </tr>\n",
       "    <tr>\n",
       "      <th>1</th>\n",
       "      <td>Drunk Bragging Trump Staffer Started Russian ...</td>\n",
       "      <td>House Intelligence Committee Chairman Devin Nu...</td>\n",
       "      <td>News</td>\n",
       "      <td>December 31, 2017</td>\n",
       "      <td>1</td>\n",
       "    </tr>\n",
       "    <tr>\n",
       "      <th>2</th>\n",
       "      <td>Sheriff David Clarke Becomes An Internet Joke...</td>\n",
       "      <td>On Friday, it was revealed that former Milwauk...</td>\n",
       "      <td>News</td>\n",
       "      <td>December 30, 2017</td>\n",
       "      <td>1</td>\n",
       "    </tr>\n",
       "    <tr>\n",
       "      <th>3</th>\n",
       "      <td>Trump Is So Obsessed He Even Has Obama’s Name...</td>\n",
       "      <td>On Christmas day, Donald Trump announced that ...</td>\n",
       "      <td>News</td>\n",
       "      <td>December 29, 2017</td>\n",
       "      <td>1</td>\n",
       "    </tr>\n",
       "    <tr>\n",
       "      <th>4</th>\n",
       "      <td>Pope Francis Just Called Out Donald Trump Dur...</td>\n",
       "      <td>Pope Francis used his annual Christmas Day mes...</td>\n",
       "      <td>News</td>\n",
       "      <td>December 25, 2017</td>\n",
       "      <td>1</td>\n",
       "    </tr>\n",
       "  </tbody>\n",
       "</table>\n",
       "</div>"
      ],
      "text/plain": [
       "                                               title  \\\n",
       "0   Donald Trump Sends Out Embarrassing New Year’...   \n",
       "1   Drunk Bragging Trump Staffer Started Russian ...   \n",
       "2   Sheriff David Clarke Becomes An Internet Joke...   \n",
       "3   Trump Is So Obsessed He Even Has Obama’s Name...   \n",
       "4   Pope Francis Just Called Out Donald Trump Dur...   \n",
       "\n",
       "                                                text subject  \\\n",
       "0  Donald Trump just couldn t wish all Americans ...    News   \n",
       "1  House Intelligence Committee Chairman Devin Nu...    News   \n",
       "2  On Friday, it was revealed that former Milwauk...    News   \n",
       "3  On Christmas day, Donald Trump announced that ...    News   \n",
       "4  Pope Francis used his annual Christmas Day mes...    News   \n",
       "\n",
       "                date  classification  \n",
       "0  December 31, 2017               1  \n",
       "1  December 31, 2017               1  \n",
       "2  December 30, 2017               1  \n",
       "3  December 29, 2017               1  \n",
       "4  December 25, 2017               1  "
      ]
     },
     "execution_count": 5,
     "metadata": {},
     "output_type": "execute_result"
    }
   ],
   "source": [
    "df_fake['classification'] = 1\n",
    "df_fake.head()"
   ]
  },
  {
   "cell_type": "code",
   "execution_count": 6,
   "id": "d3c40bb0",
   "metadata": {},
   "outputs": [
    {
     "data": {
      "text/html": [
       "<div>\n",
       "<style scoped>\n",
       "    .dataframe tbody tr th:only-of-type {\n",
       "        vertical-align: middle;\n",
       "    }\n",
       "\n",
       "    .dataframe tbody tr th {\n",
       "        vertical-align: top;\n",
       "    }\n",
       "\n",
       "    .dataframe thead th {\n",
       "        text-align: right;\n",
       "    }\n",
       "</style>\n",
       "<table border=\"1\" class=\"dataframe\">\n",
       "  <thead>\n",
       "    <tr style=\"text-align: right;\">\n",
       "      <th></th>\n",
       "      <th>title</th>\n",
       "      <th>text</th>\n",
       "      <th>subject</th>\n",
       "      <th>date</th>\n",
       "    </tr>\n",
       "  </thead>\n",
       "  <tbody>\n",
       "    <tr>\n",
       "      <th>0</th>\n",
       "      <td>As U.S. budget fight looms, Republicans flip t...</td>\n",
       "      <td>WASHINGTON (Reuters) - The head of a conservat...</td>\n",
       "      <td>politicsNews</td>\n",
       "      <td>December 31, 2017</td>\n",
       "    </tr>\n",
       "    <tr>\n",
       "      <th>1</th>\n",
       "      <td>U.S. military to accept transgender recruits o...</td>\n",
       "      <td>WASHINGTON (Reuters) - Transgender people will...</td>\n",
       "      <td>politicsNews</td>\n",
       "      <td>December 29, 2017</td>\n",
       "    </tr>\n",
       "    <tr>\n",
       "      <th>2</th>\n",
       "      <td>Senior U.S. Republican senator: 'Let Mr. Muell...</td>\n",
       "      <td>WASHINGTON (Reuters) - The special counsel inv...</td>\n",
       "      <td>politicsNews</td>\n",
       "      <td>December 31, 2017</td>\n",
       "    </tr>\n",
       "    <tr>\n",
       "      <th>3</th>\n",
       "      <td>FBI Russia probe helped by Australian diplomat...</td>\n",
       "      <td>WASHINGTON (Reuters) - Trump campaign adviser ...</td>\n",
       "      <td>politicsNews</td>\n",
       "      <td>December 30, 2017</td>\n",
       "    </tr>\n",
       "    <tr>\n",
       "      <th>4</th>\n",
       "      <td>Trump wants Postal Service to charge 'much mor...</td>\n",
       "      <td>SEATTLE/WASHINGTON (Reuters) - President Donal...</td>\n",
       "      <td>politicsNews</td>\n",
       "      <td>December 29, 2017</td>\n",
       "    </tr>\n",
       "  </tbody>\n",
       "</table>\n",
       "</div>"
      ],
      "text/plain": [
       "                                               title  \\\n",
       "0  As U.S. budget fight looms, Republicans flip t...   \n",
       "1  U.S. military to accept transgender recruits o...   \n",
       "2  Senior U.S. Republican senator: 'Let Mr. Muell...   \n",
       "3  FBI Russia probe helped by Australian diplomat...   \n",
       "4  Trump wants Postal Service to charge 'much mor...   \n",
       "\n",
       "                                                text       subject  \\\n",
       "0  WASHINGTON (Reuters) - The head of a conservat...  politicsNews   \n",
       "1  WASHINGTON (Reuters) - Transgender people will...  politicsNews   \n",
       "2  WASHINGTON (Reuters) - The special counsel inv...  politicsNews   \n",
       "3  WASHINGTON (Reuters) - Trump campaign adviser ...  politicsNews   \n",
       "4  SEATTLE/WASHINGTON (Reuters) - President Donal...  politicsNews   \n",
       "\n",
       "                 date  \n",
       "0  December 31, 2017   \n",
       "1  December 29, 2017   \n",
       "2  December 31, 2017   \n",
       "3  December 30, 2017   \n",
       "4  December 29, 2017   "
      ]
     },
     "execution_count": 6,
     "metadata": {},
     "output_type": "execute_result"
    }
   ],
   "source": [
    "#importing actual news\n",
    "df_actual = pd.read_csv(actual_news_path)\n",
    "df_actual.head()"
   ]
  },
  {
   "cell_type": "code",
   "execution_count": 7,
   "id": "22d42c71",
   "metadata": {},
   "outputs": [
    {
     "data": {
      "text/html": [
       "<div>\n",
       "<style scoped>\n",
       "    .dataframe tbody tr th:only-of-type {\n",
       "        vertical-align: middle;\n",
       "    }\n",
       "\n",
       "    .dataframe tbody tr th {\n",
       "        vertical-align: top;\n",
       "    }\n",
       "\n",
       "    .dataframe thead th {\n",
       "        text-align: right;\n",
       "    }\n",
       "</style>\n",
       "<table border=\"1\" class=\"dataframe\">\n",
       "  <thead>\n",
       "    <tr style=\"text-align: right;\">\n",
       "      <th></th>\n",
       "      <th>title</th>\n",
       "      <th>text</th>\n",
       "      <th>subject</th>\n",
       "      <th>date</th>\n",
       "      <th>classification</th>\n",
       "    </tr>\n",
       "  </thead>\n",
       "  <tbody>\n",
       "    <tr>\n",
       "      <th>0</th>\n",
       "      <td>As U.S. budget fight looms, Republicans flip t...</td>\n",
       "      <td>WASHINGTON (Reuters) - The head of a conservat...</td>\n",
       "      <td>politicsNews</td>\n",
       "      <td>December 31, 2017</td>\n",
       "      <td>0</td>\n",
       "    </tr>\n",
       "    <tr>\n",
       "      <th>1</th>\n",
       "      <td>U.S. military to accept transgender recruits o...</td>\n",
       "      <td>WASHINGTON (Reuters) - Transgender people will...</td>\n",
       "      <td>politicsNews</td>\n",
       "      <td>December 29, 2017</td>\n",
       "      <td>0</td>\n",
       "    </tr>\n",
       "    <tr>\n",
       "      <th>2</th>\n",
       "      <td>Senior U.S. Republican senator: 'Let Mr. Muell...</td>\n",
       "      <td>WASHINGTON (Reuters) - The special counsel inv...</td>\n",
       "      <td>politicsNews</td>\n",
       "      <td>December 31, 2017</td>\n",
       "      <td>0</td>\n",
       "    </tr>\n",
       "    <tr>\n",
       "      <th>3</th>\n",
       "      <td>FBI Russia probe helped by Australian diplomat...</td>\n",
       "      <td>WASHINGTON (Reuters) - Trump campaign adviser ...</td>\n",
       "      <td>politicsNews</td>\n",
       "      <td>December 30, 2017</td>\n",
       "      <td>0</td>\n",
       "    </tr>\n",
       "    <tr>\n",
       "      <th>4</th>\n",
       "      <td>Trump wants Postal Service to charge 'much mor...</td>\n",
       "      <td>SEATTLE/WASHINGTON (Reuters) - President Donal...</td>\n",
       "      <td>politicsNews</td>\n",
       "      <td>December 29, 2017</td>\n",
       "      <td>0</td>\n",
       "    </tr>\n",
       "  </tbody>\n",
       "</table>\n",
       "</div>"
      ],
      "text/plain": [
       "                                               title  \\\n",
       "0  As U.S. budget fight looms, Republicans flip t...   \n",
       "1  U.S. military to accept transgender recruits o...   \n",
       "2  Senior U.S. Republican senator: 'Let Mr. Muell...   \n",
       "3  FBI Russia probe helped by Australian diplomat...   \n",
       "4  Trump wants Postal Service to charge 'much mor...   \n",
       "\n",
       "                                                text       subject  \\\n",
       "0  WASHINGTON (Reuters) - The head of a conservat...  politicsNews   \n",
       "1  WASHINGTON (Reuters) - Transgender people will...  politicsNews   \n",
       "2  WASHINGTON (Reuters) - The special counsel inv...  politicsNews   \n",
       "3  WASHINGTON (Reuters) - Trump campaign adviser ...  politicsNews   \n",
       "4  SEATTLE/WASHINGTON (Reuters) - President Donal...  politicsNews   \n",
       "\n",
       "                 date  classification  \n",
       "0  December 31, 2017                0  \n",
       "1  December 29, 2017                0  \n",
       "2  December 31, 2017                0  \n",
       "3  December 30, 2017                0  \n",
       "4  December 29, 2017                0  "
      ]
     },
     "execution_count": 7,
     "metadata": {},
     "output_type": "execute_result"
    }
   ],
   "source": [
    "df_actual['classification'] = 0\n",
    "df_actual.head()"
   ]
  },
  {
   "cell_type": "code",
   "execution_count": 8,
   "id": "e72fe3a4",
   "metadata": {},
   "outputs": [
    {
     "data": {
      "text/html": [
       "<div>\n",
       "<style scoped>\n",
       "    .dataframe tbody tr th:only-of-type {\n",
       "        vertical-align: middle;\n",
       "    }\n",
       "\n",
       "    .dataframe tbody tr th {\n",
       "        vertical-align: top;\n",
       "    }\n",
       "\n",
       "    .dataframe thead th {\n",
       "        text-align: right;\n",
       "    }\n",
       "</style>\n",
       "<table border=\"1\" class=\"dataframe\">\n",
       "  <thead>\n",
       "    <tr style=\"text-align: right;\">\n",
       "      <th></th>\n",
       "      <th>title</th>\n",
       "      <th>text</th>\n",
       "      <th>subject</th>\n",
       "      <th>date</th>\n",
       "      <th>classification</th>\n",
       "    </tr>\n",
       "  </thead>\n",
       "  <tbody>\n",
       "    <tr>\n",
       "      <th>0</th>\n",
       "      <td>Donald Trump Sends Out Embarrassing New Year’...</td>\n",
       "      <td>Donald Trump just couldn t wish all Americans ...</td>\n",
       "      <td>News</td>\n",
       "      <td>December 31, 2017</td>\n",
       "      <td>1</td>\n",
       "    </tr>\n",
       "    <tr>\n",
       "      <th>1</th>\n",
       "      <td>Drunk Bragging Trump Staffer Started Russian ...</td>\n",
       "      <td>House Intelligence Committee Chairman Devin Nu...</td>\n",
       "      <td>News</td>\n",
       "      <td>December 31, 2017</td>\n",
       "      <td>1</td>\n",
       "    </tr>\n",
       "    <tr>\n",
       "      <th>2</th>\n",
       "      <td>Sheriff David Clarke Becomes An Internet Joke...</td>\n",
       "      <td>On Friday, it was revealed that former Milwauk...</td>\n",
       "      <td>News</td>\n",
       "      <td>December 30, 2017</td>\n",
       "      <td>1</td>\n",
       "    </tr>\n",
       "    <tr>\n",
       "      <th>3</th>\n",
       "      <td>Trump Is So Obsessed He Even Has Obama’s Name...</td>\n",
       "      <td>On Christmas day, Donald Trump announced that ...</td>\n",
       "      <td>News</td>\n",
       "      <td>December 29, 2017</td>\n",
       "      <td>1</td>\n",
       "    </tr>\n",
       "    <tr>\n",
       "      <th>4</th>\n",
       "      <td>Pope Francis Just Called Out Donald Trump Dur...</td>\n",
       "      <td>Pope Francis used his annual Christmas Day mes...</td>\n",
       "      <td>News</td>\n",
       "      <td>December 25, 2017</td>\n",
       "      <td>1</td>\n",
       "    </tr>\n",
       "  </tbody>\n",
       "</table>\n",
       "</div>"
      ],
      "text/plain": [
       "                                               title  \\\n",
       "0   Donald Trump Sends Out Embarrassing New Year’...   \n",
       "1   Drunk Bragging Trump Staffer Started Russian ...   \n",
       "2   Sheriff David Clarke Becomes An Internet Joke...   \n",
       "3   Trump Is So Obsessed He Even Has Obama’s Name...   \n",
       "4   Pope Francis Just Called Out Donald Trump Dur...   \n",
       "\n",
       "                                                text subject  \\\n",
       "0  Donald Trump just couldn t wish all Americans ...    News   \n",
       "1  House Intelligence Committee Chairman Devin Nu...    News   \n",
       "2  On Friday, it was revealed that former Milwauk...    News   \n",
       "3  On Christmas day, Donald Trump announced that ...    News   \n",
       "4  Pope Francis used his annual Christmas Day mes...    News   \n",
       "\n",
       "                date  classification  \n",
       "0  December 31, 2017               1  \n",
       "1  December 31, 2017               1  \n",
       "2  December 30, 2017               1  \n",
       "3  December 29, 2017               1  \n",
       "4  December 25, 2017               1  "
      ]
     },
     "execution_count": 8,
     "metadata": {},
     "output_type": "execute_result"
    }
   ],
   "source": [
    "#combining both datasets\n",
    "df = pd.concat([df_fake,df_actual],axis=0)\n",
    "df.head()"
   ]
  },
  {
   "cell_type": "code",
   "execution_count": 9,
   "id": "e1740616",
   "metadata": {},
   "outputs": [
    {
     "data": {
      "text/html": [
       "<div>\n",
       "<style scoped>\n",
       "    .dataframe tbody tr th:only-of-type {\n",
       "        vertical-align: middle;\n",
       "    }\n",
       "\n",
       "    .dataframe tbody tr th {\n",
       "        vertical-align: top;\n",
       "    }\n",
       "\n",
       "    .dataframe thead th {\n",
       "        text-align: right;\n",
       "    }\n",
       "</style>\n",
       "<table border=\"1\" class=\"dataframe\">\n",
       "  <thead>\n",
       "    <tr style=\"text-align: right;\">\n",
       "      <th></th>\n",
       "      <th>title</th>\n",
       "      <th>text</th>\n",
       "      <th>subject</th>\n",
       "      <th>date</th>\n",
       "      <th>classification</th>\n",
       "    </tr>\n",
       "  </thead>\n",
       "  <tbody>\n",
       "    <tr>\n",
       "      <th>0</th>\n",
       "      <td>Fear of Iranian general left Iraqi Kurdish oil...</td>\n",
       "      <td>BAGHDAD/LONDON (Reuters) - When the Iraqi army...</td>\n",
       "      <td>worldnews</td>\n",
       "      <td>October 25, 2017</td>\n",
       "      <td>0</td>\n",
       "    </tr>\n",
       "    <tr>\n",
       "      <th>1</th>\n",
       "      <td>North Carolina governor concedes election to D...</td>\n",
       "      <td>WINSTON-SALEM, N.C. (Reuters) - North Carolina...</td>\n",
       "      <td>politicsNews</td>\n",
       "      <td>December 5, 2016</td>\n",
       "      <td>0</td>\n",
       "    </tr>\n",
       "    <tr>\n",
       "      <th>2</th>\n",
       "      <td>Trump Jr. Just ‘Liked’ Tweet Praising Mosque ...</td>\n",
       "      <td>When it comes to how shameless the Trump famil...</td>\n",
       "      <td>News</td>\n",
       "      <td>January 31, 2017</td>\n",
       "      <td>1</td>\n",
       "    </tr>\n",
       "    <tr>\n",
       "      <th>3</th>\n",
       "      <td>Breaking: Secretary Of State Debates Abandoni...</td>\n",
       "      <td>Donald Trump s horrible decisions and disgusti...</td>\n",
       "      <td>News</td>\n",
       "      <td>July 24, 2017</td>\n",
       "      <td>1</td>\n",
       "    </tr>\n",
       "    <tr>\n",
       "      <th>4</th>\n",
       "      <td>U.S. judge approves court, police accord for F...</td>\n",
       "      <td>(Reuters) - A federal judge on Tuesday approve...</td>\n",
       "      <td>politicsNews</td>\n",
       "      <td>April 19, 2016</td>\n",
       "      <td>0</td>\n",
       "    </tr>\n",
       "  </tbody>\n",
       "</table>\n",
       "</div>"
      ],
      "text/plain": [
       "                                               title  \\\n",
       "0  Fear of Iranian general left Iraqi Kurdish oil...   \n",
       "1  North Carolina governor concedes election to D...   \n",
       "2   Trump Jr. Just ‘Liked’ Tweet Praising Mosque ...   \n",
       "3   Breaking: Secretary Of State Debates Abandoni...   \n",
       "4  U.S. judge approves court, police accord for F...   \n",
       "\n",
       "                                                text       subject  \\\n",
       "0  BAGHDAD/LONDON (Reuters) - When the Iraqi army...     worldnews   \n",
       "1  WINSTON-SALEM, N.C. (Reuters) - North Carolina...  politicsNews   \n",
       "2  When it comes to how shameless the Trump famil...          News   \n",
       "3  Donald Trump s horrible decisions and disgusti...          News   \n",
       "4  (Reuters) - A federal judge on Tuesday approve...  politicsNews   \n",
       "\n",
       "                date  classification  \n",
       "0  October 25, 2017                0  \n",
       "1  December 5, 2016                0  \n",
       "2   January 31, 2017               1  \n",
       "3      July 24, 2017               1  \n",
       "4    April 19, 2016                0  "
      ]
     },
     "execution_count": 9,
     "metadata": {},
     "output_type": "execute_result"
    }
   ],
   "source": [
    "#Shuffling all the rows randomly\n",
    "df = df.sample(frac = 1).reset_index(drop=True)\n",
    "df.head()"
   ]
  },
  {
   "cell_type": "code",
   "execution_count": 10,
   "id": "8d68deea",
   "metadata": {},
   "outputs": [
    {
     "data": {
      "text/html": [
       "<div>\n",
       "<style scoped>\n",
       "    .dataframe tbody tr th:only-of-type {\n",
       "        vertical-align: middle;\n",
       "    }\n",
       "\n",
       "    .dataframe tbody tr th {\n",
       "        vertical-align: top;\n",
       "    }\n",
       "\n",
       "    .dataframe thead th {\n",
       "        text-align: right;\n",
       "    }\n",
       "</style>\n",
       "<table border=\"1\" class=\"dataframe\">\n",
       "  <thead>\n",
       "    <tr style=\"text-align: right;\">\n",
       "      <th></th>\n",
       "      <th>title</th>\n",
       "      <th>text</th>\n",
       "      <th>subject</th>\n",
       "      <th>date</th>\n",
       "      <th>classification</th>\n",
       "      <th>content</th>\n",
       "    </tr>\n",
       "  </thead>\n",
       "  <tbody>\n",
       "    <tr>\n",
       "      <th>0</th>\n",
       "      <td>Fear of Iranian general left Iraqi Kurdish oil...</td>\n",
       "      <td>BAGHDAD/LONDON (Reuters) - When the Iraqi army...</td>\n",
       "      <td>worldnews</td>\n",
       "      <td>October 25, 2017</td>\n",
       "      <td>0</td>\n",
       "      <td>Fear of Iranian general left Iraqi Kurdish oil...</td>\n",
       "    </tr>\n",
       "    <tr>\n",
       "      <th>1</th>\n",
       "      <td>North Carolina governor concedes election to D...</td>\n",
       "      <td>WINSTON-SALEM, N.C. (Reuters) - North Carolina...</td>\n",
       "      <td>politicsNews</td>\n",
       "      <td>December 5, 2016</td>\n",
       "      <td>0</td>\n",
       "      <td>North Carolina governor concedes election to D...</td>\n",
       "    </tr>\n",
       "    <tr>\n",
       "      <th>2</th>\n",
       "      <td>Trump Jr. Just ‘Liked’ Tweet Praising Mosque ...</td>\n",
       "      <td>When it comes to how shameless the Trump famil...</td>\n",
       "      <td>News</td>\n",
       "      <td>January 31, 2017</td>\n",
       "      <td>1</td>\n",
       "      <td>Trump Jr. Just ‘Liked’ Tweet Praising Mosque ...</td>\n",
       "    </tr>\n",
       "    <tr>\n",
       "      <th>3</th>\n",
       "      <td>Breaking: Secretary Of State Debates Abandoni...</td>\n",
       "      <td>Donald Trump s horrible decisions and disgusti...</td>\n",
       "      <td>News</td>\n",
       "      <td>July 24, 2017</td>\n",
       "      <td>1</td>\n",
       "      <td>Breaking: Secretary Of State Debates Abandoni...</td>\n",
       "    </tr>\n",
       "    <tr>\n",
       "      <th>4</th>\n",
       "      <td>U.S. judge approves court, police accord for F...</td>\n",
       "      <td>(Reuters) - A federal judge on Tuesday approve...</td>\n",
       "      <td>politicsNews</td>\n",
       "      <td>April 19, 2016</td>\n",
       "      <td>0</td>\n",
       "      <td>U.S. judge approves court, police accord for F...</td>\n",
       "    </tr>\n",
       "  </tbody>\n",
       "</table>\n",
       "</div>"
      ],
      "text/plain": [
       "                                               title  \\\n",
       "0  Fear of Iranian general left Iraqi Kurdish oil...   \n",
       "1  North Carolina governor concedes election to D...   \n",
       "2   Trump Jr. Just ‘Liked’ Tweet Praising Mosque ...   \n",
       "3   Breaking: Secretary Of State Debates Abandoni...   \n",
       "4  U.S. judge approves court, police accord for F...   \n",
       "\n",
       "                                                text       subject  \\\n",
       "0  BAGHDAD/LONDON (Reuters) - When the Iraqi army...     worldnews   \n",
       "1  WINSTON-SALEM, N.C. (Reuters) - North Carolina...  politicsNews   \n",
       "2  When it comes to how shameless the Trump famil...          News   \n",
       "3  Donald Trump s horrible decisions and disgusti...          News   \n",
       "4  (Reuters) - A federal judge on Tuesday approve...  politicsNews   \n",
       "\n",
       "                date  classification  \\\n",
       "0  October 25, 2017                0   \n",
       "1  December 5, 2016                0   \n",
       "2   January 31, 2017               1   \n",
       "3      July 24, 2017               1   \n",
       "4    April 19, 2016                0   \n",
       "\n",
       "                                             content  \n",
       "0  Fear of Iranian general left Iraqi Kurdish oil...  \n",
       "1  North Carolina governor concedes election to D...  \n",
       "2   Trump Jr. Just ‘Liked’ Tweet Praising Mosque ...  \n",
       "3   Breaking: Secretary Of State Debates Abandoni...  \n",
       "4  U.S. judge approves court, police accord for F...  "
      ]
     },
     "execution_count": 10,
     "metadata": {},
     "output_type": "execute_result"
    }
   ],
   "source": [
    "#merging both title and text columns\n",
    "df['content'] = df['title'] + df['text']\n",
    "df.head()"
   ]
  },
  {
   "cell_type": "code",
   "execution_count": 11,
   "id": "6c881c9e",
   "metadata": {},
   "outputs": [
    {
     "name": "stdout",
     "output_type": "stream",
     "text": [
      "<class 'pandas.core.frame.DataFrame'>\n",
      "RangeIndex: 44898 entries, 0 to 44897\n",
      "Data columns (total 6 columns):\n",
      " #   Column          Non-Null Count  Dtype \n",
      "---  ------          --------------  ----- \n",
      " 0   title           44898 non-null  object\n",
      " 1   text            44898 non-null  object\n",
      " 2   subject         44898 non-null  object\n",
      " 3   date            44898 non-null  object\n",
      " 4   classification  44898 non-null  int64 \n",
      " 5   content         44898 non-null  object\n",
      "dtypes: int64(1), object(5)\n",
      "memory usage: 2.1+ MB\n"
     ]
    }
   ],
   "source": [
    "df.info()"
   ]
  },
  {
   "cell_type": "code",
   "execution_count": 12,
   "id": "8e8a48cc",
   "metadata": {},
   "outputs": [
    {
     "data": {
      "text/plain": [
       "(44898, 6)"
      ]
     },
     "execution_count": 12,
     "metadata": {},
     "output_type": "execute_result"
    }
   ],
   "source": [
    "df.shape"
   ]
  },
  {
   "cell_type": "code",
   "execution_count": 13,
   "id": "f8a8ff71",
   "metadata": {},
   "outputs": [
    {
     "data": {
      "text/plain": [
       "title             0\n",
       "text              0\n",
       "subject           0\n",
       "date              0\n",
       "classification    0\n",
       "content           0\n",
       "dtype: int64"
      ]
     },
     "execution_count": 13,
     "metadata": {},
     "output_type": "execute_result"
    }
   ],
   "source": [
    "df.isnull().sum()"
   ]
  },
  {
   "cell_type": "code",
   "execution_count": 14,
   "id": "6551d836",
   "metadata": {},
   "outputs": [],
   "source": [
    "#No missing values"
   ]
  },
  {
   "cell_type": "code",
   "execution_count": 15,
   "id": "eb2a2e5c",
   "metadata": {},
   "outputs": [],
   "source": [
    "# Removing special characters from dataset\n",
    "def replace_text(text):\n",
    "    new_text = text.lower()\n",
    "    new_text = re.sub('\\[.*?\\]','',new_text)\n",
    "    new_text = re.sub(\"\\\\W\",\"\",new_text)\n",
    "    new_text = re.sub('https?://\\S+|www\\.\\S+','',new_text)\n",
    "    new_text = re.sub('<.*?>+','',new_text)\n",
    "    new_text = re.sub('\\n','',new_text)\n",
    "    new_text = re.sub('\\w*\\d\\w*','',new_text)\n",
    "    new_text = re.sub('[%s]'% re.escape(string.punctuation),'',new_text)\n",
    "    return new_text"
   ]
  },
  {
   "cell_type": "code",
   "execution_count": 16,
   "id": "00caed97",
   "metadata": {},
   "outputs": [],
   "source": [
    "df['content'] = df['content'].apply(replace_text)"
   ]
  },
  {
   "cell_type": "code",
   "execution_count": 17,
   "id": "469782d6",
   "metadata": {},
   "outputs": [],
   "source": [
    "X = df['content']\n",
    "y = df['classification']"
   ]
  },
  {
   "cell_type": "code",
   "execution_count": 18,
   "id": "a794ae77",
   "metadata": {},
   "outputs": [],
   "source": [
    "# vectorizing the data\n",
    "vectorization = TfidfVectorizer()\n",
    "X_vector = vectorization.fit_transform(X)\n"
   ]
  },
  {
   "cell_type": "code",
   "execution_count": 19,
   "id": "b0935614",
   "metadata": {},
   "outputs": [],
   "source": [
    "X_train, X_test, y_train,y_test = train_test_split(X_vector,y,test_size=0.25,random_state=42)"
   ]
  },
  {
   "cell_type": "code",
   "execution_count": 20,
   "id": "93dbf08c",
   "metadata": {},
   "outputs": [
    {
     "data": {
      "text/plain": [
       "0.5238307349665924"
      ]
     },
     "execution_count": 20,
     "metadata": {},
     "output_type": "execute_result"
    }
   ],
   "source": [
    "# fitting the data to the model\n",
    "model = LogisticRegression()\n",
    "model.fit(X_train,y_train)\n",
    "model.score(X_test,y_test)\n"
   ]
  },
  {
   "cell_type": "code",
   "execution_count": 21,
   "id": "5a049d4b",
   "metadata": {},
   "outputs": [
    {
     "data": {
      "text/plain": [
       "0.5238307349665924"
      ]
     },
     "execution_count": 21,
     "metadata": {},
     "output_type": "execute_result"
    }
   ],
   "source": [
    "y_pred = model.predict(X_test)\n",
    "accuracy_score(y_test,y_pred)"
   ]
  },
  {
   "cell_type": "code",
   "execution_count": 22,
   "id": "edd62d69",
   "metadata": {},
   "outputs": [
    {
     "name": "stdout",
     "output_type": "stream",
     "text": [
      "              precision    recall  f1-score   support\n",
      "\n",
      "           0       1.00      0.01      0.02      5391\n",
      "           1       0.52      1.00      0.69      5834\n",
      "\n",
      "    accuracy                           0.52     11225\n",
      "   macro avg       0.76      0.50      0.35     11225\n",
      "weighted avg       0.75      0.52      0.36     11225\n",
      "\n"
     ]
    }
   ],
   "source": [
    "print(classification_report(y_test,y_pred))"
   ]
  },
  {
   "cell_type": "code",
   "execution_count": 23,
   "id": "65986c11",
   "metadata": {},
   "outputs": [],
   "source": [
    "#score is not satisfactory"
   ]
  },
  {
   "cell_type": "code",
   "execution_count": 24,
   "id": "135e744d",
   "metadata": {},
   "outputs": [],
   "source": [
    "df = pd.concat([df_fake,df_actual],axis=0)\n",
    "df = df.sample(frac = 1).reset_index(drop=True)\n",
    "df['content'] = df['title'] + df['text']"
   ]
  },
  {
   "cell_type": "code",
   "execution_count": 25,
   "id": "36f44559",
   "metadata": {},
   "outputs": [],
   "source": [
    "# creating another method to process the text\n",
    "from nltk.corpus import stopwords\n",
    "from nltk.stem.porter import PorterStemmer\n",
    "\n",
    "port_stem = PorterStemmer()\n",
    "\n",
    "def clean_and_lower(text):\n",
    "    cleaned_text = re.sub(r'[^A-Za-z0-9]+', ' ', text)\n",
    "    cleaned_text = cleaned_text.lower()\n",
    "    cleaned_text = cleaned_text.split()\n",
    "    cleaned_text = [port_stem.stem(word) for word in cleaned_text if not word in stopwords.words('english')]\n",
    "    cleaned_text = ' '.join(cleaned_text)\n",
    "    \n",
    "    return cleaned_text"
   ]
  },
  {
   "cell_type": "code",
   "execution_count": 26,
   "id": "a39a9781",
   "metadata": {},
   "outputs": [],
   "source": [
    "df['content'] = df['content'].apply(clean_and_lower)"
   ]
  },
  {
   "cell_type": "code",
   "execution_count": 57,
   "id": "b4c3e751",
   "metadata": {},
   "outputs": [],
   "source": [
    "X = df['content']\n",
    "y = df['classification']"
   ]
  },
  {
   "cell_type": "code",
   "execution_count": 58,
   "id": "f4c49695",
   "metadata": {},
   "outputs": [],
   "source": [
    "\n",
    "X_train, X_test, y_train,y_test = train_test_split(X,y,test_size=0.25,stratify=y,random_state=42)\n",
    "X_train = vectorization.fit_transform(X_train)\n",
    "X_test = vectorization.transform(X_test)\n",
    "\n"
   ]
  },
  {
   "cell_type": "code",
   "execution_count": 59,
   "id": "6d7055c3",
   "metadata": {},
   "outputs": [
    {
     "name": "stdout",
     "output_type": "stream",
     "text": [
      "1    17610\n",
      "0    16063\n",
      "Name: classification, dtype: int64\n",
      "1    5871\n",
      "0    5354\n",
      "Name: classification, dtype: int64\n"
     ]
    }
   ],
   "source": [
    "print(y_train.value_counts())\n",
    "print(y_test.value_counts())"
   ]
  },
  {
   "cell_type": "code",
   "execution_count": 60,
   "id": "fa03805a",
   "metadata": {},
   "outputs": [
    {
     "data": {
      "text/plain": [
       "0.9865478841870824"
      ]
     },
     "execution_count": 60,
     "metadata": {},
     "output_type": "execute_result"
    }
   ],
   "source": [
    "Logistic_model = LogisticRegression()\n",
    "Logistic_model.fit(X_train,y_train)\n",
    "Logistic_model.score(X_test,y_test)\n"
   ]
  },
  {
   "cell_type": "code",
   "execution_count": 61,
   "id": "fbccd90f",
   "metadata": {},
   "outputs": [
    {
     "name": "stdout",
     "output_type": "stream",
     "text": [
      "              precision    recall  f1-score   support\n",
      "\n",
      "           0       0.98      0.99      0.99      5354\n",
      "           1       0.99      0.98      0.99      5871\n",
      "\n",
      "    accuracy                           0.99     11225\n",
      "   macro avg       0.99      0.99      0.99     11225\n",
      "weighted avg       0.99      0.99      0.99     11225\n",
      "\n"
     ]
    }
   ],
   "source": [
    "y_pred_LR = Logistic_model.predict(X_test)\n",
    "\n",
    "print(classification_report(y_test,y_pred_LR))"
   ]
  },
  {
   "cell_type": "code",
   "execution_count": 62,
   "id": "698edc00",
   "metadata": {},
   "outputs": [
    {
     "data": {
      "text/plain": [
       "0.995902004454343"
      ]
     },
     "execution_count": 62,
     "metadata": {},
     "output_type": "execute_result"
    }
   ],
   "source": [
    "from sklearn.tree import DecisionTreeClassifier\n",
    "DT_model = DecisionTreeClassifier()\n",
    "DT_model.fit(X_train,y_train)\n",
    "DT_model.score(X_test,y_test)"
   ]
  },
  {
   "cell_type": "code",
   "execution_count": 63,
   "id": "2be9a173",
   "metadata": {},
   "outputs": [
    {
     "name": "stdout",
     "output_type": "stream",
     "text": [
      "              precision    recall  f1-score   support\n",
      "\n",
      "           0       1.00      1.00      1.00      5354\n",
      "           1       1.00      1.00      1.00      5871\n",
      "\n",
      "    accuracy                           1.00     11225\n",
      "   macro avg       1.00      1.00      1.00     11225\n",
      "weighted avg       1.00      1.00      1.00     11225\n",
      "\n"
     ]
    }
   ],
   "source": [
    "y_pred_DT = DT_model.predict(X_test)\n",
    "\n",
    "print(classification_report(y_test,y_pred_DT))"
   ]
  },
  {
   "cell_type": "code",
   "execution_count": 65,
   "id": "298bad03",
   "metadata": {},
   "outputs": [
    {
     "name": "stdout",
     "output_type": "stream",
     "text": [
      "Accuracy_DT: 0.9959\n",
      "Precision_DT: 0.9956\n",
      "Recall_DT: 0.9966\n",
      "F1-Score_DT: 0.9961\n",
      "\n",
      "Confusion Matrix DT:\n",
      "[[5328   26]\n",
      " [  20 5851]]\n",
      "\n",
      "Accuracy_LR: 0.9865\n",
      "Precision_LR: 0.9894\n",
      "Recall_LR: 0.9848\n",
      "F1-Score_LR: 0.9871\n",
      "\n",
      "Confusion Matrix LR:\n",
      "[[5292   62]\n",
      " [  89 5782]]\n"
     ]
    }
   ],
   "source": [
    "from sklearn.metrics import accuracy_score, precision_score, recall_score, f1_score, confusion_matrix\n",
    "\n",
    "threshold = 0.5  \n",
    "binary_predictions_DT = (y_pred_DT > threshold).astype(int)\n",
    "\n",
    "# Calculate metrics\n",
    "accuracy_DT = accuracy_score(y_test, binary_predictions_DT)\n",
    "precision_DT = precision_score(y_test, binary_predictions_DT)\n",
    "recall_DT = recall_score(y_test, binary_predictions_DT)\n",
    "f1_DT = f1_score(y_test, binary_predictions_DT)\n",
    "\n",
    "# Confusion Matrix\n",
    "conf_matrix_DT = confusion_matrix(y_test, binary_predictions_DT)\n",
    "\n",
    "print(f\"Accuracy_DT: {accuracy_DT:.4f}\")\n",
    "print(f\"Precision_DT: {precision_DT:.4f}\")\n",
    "print(f\"Recall_DT: {recall_DT:.4f}\")\n",
    "print(f\"F1-Score_DT: {f1_DT:.4f}\")\n",
    "print(\"\\nConfusion Matrix DT:\")\n",
    "print(conf_matrix_DT)\n",
    "print()\n",
    "\n",
    " \n",
    "binary_predictions_LR = (y_pred_LR > threshold).astype(int)\n",
    "\n",
    "# Calculate metrics\n",
    "accuracy_LR = accuracy_score(y_test, binary_predictions_LR)\n",
    "precision_LR = precision_score(y_test, binary_predictions_LR)\n",
    "recall_LR = recall_score(y_test, binary_predictions_LR)\n",
    "f1_LR = f1_score(y_test, binary_predictions_LR)\n",
    "\n",
    "# Confusion Matrix\n",
    "conf_matrix_LR = confusion_matrix(y_test, binary_predictions_LR)\n",
    "\n",
    "print(f\"Accuracy_LR: {accuracy_LR:.4f}\")\n",
    "print(f\"Precision_LR: {precision_LR:.4f}\")\n",
    "print(f\"Recall_LR: {recall_LR:.4f}\")\n",
    "print(f\"F1-Score_LR: {f1_LR:.4f}\")\n",
    "print(\"\\nConfusion Matrix LR:\")\n",
    "print(conf_matrix_LR)\n",
    "\n"
   ]
  },
  {
   "cell_type": "code",
   "execution_count": 50,
   "id": "00fe249a",
   "metadata": {},
   "outputs": [
    {
     "name": "stdout",
     "output_type": "stream",
     "text": [
      "Epoch 1/50\n",
      "1053/1053 [==============================] - 14s 10ms/step - loss: 0.1895 - accuracy: 0.9260\n",
      "Epoch 2/50\n",
      "1053/1053 [==============================] - 10s 9ms/step - loss: 0.1238 - accuracy: 0.9510\n",
      "Epoch 3/50\n",
      "1053/1053 [==============================] - 10s 9ms/step - loss: 0.1167 - accuracy: 0.9532\n",
      "Epoch 4/50\n",
      "1053/1053 [==============================] - 10s 10ms/step - loss: 0.1121 - accuracy: 0.9551\n",
      "Epoch 5/50\n",
      "1053/1053 [==============================] - 10s 9ms/step - loss: 0.1069 - accuracy: 0.9566\n",
      "Epoch 6/50\n",
      "1053/1053 [==============================] - 10s 10ms/step - loss: 0.1022 - accuracy: 0.9581\n",
      "Epoch 7/50\n",
      "1053/1053 [==============================] - 9s 9ms/step - loss: 0.0979 - accuracy: 0.9606\n",
      "Epoch 8/50\n",
      "1053/1053 [==============================] - 10s 9ms/step - loss: 0.0928 - accuracy: 0.9610\n",
      "Epoch 9/50\n",
      "1053/1053 [==============================] - 11s 10ms/step - loss: 0.0887 - accuracy: 0.9626\n",
      "Epoch 10/50\n",
      "1053/1053 [==============================] - 10s 9ms/step - loss: 0.0856 - accuracy: 0.9637\n",
      "Epoch 11/50\n",
      "1053/1053 [==============================] - 10s 9ms/step - loss: 0.0817 - accuracy: 0.9661\n",
      "Epoch 12/50\n",
      "1053/1053 [==============================] - 10s 9ms/step - loss: 0.0794 - accuracy: 0.9677\n",
      "Epoch 13/50\n",
      "1053/1053 [==============================] - 9s 9ms/step - loss: 0.0767 - accuracy: 0.9683\n",
      "Epoch 14/50\n",
      "1053/1053 [==============================] - 10s 10ms/step - loss: 0.0746 - accuracy: 0.9698\n",
      "Epoch 15/50\n",
      "1053/1053 [==============================] - 10s 9ms/step - loss: 0.0713 - accuracy: 0.9705\n",
      "Epoch 16/50\n",
      "1053/1053 [==============================] - 10s 10ms/step - loss: 0.0681 - accuracy: 0.9722\n",
      "Epoch 17/50\n",
      "1053/1053 [==============================] - 10s 9ms/step - loss: 0.0661 - accuracy: 0.9731\n",
      "Epoch 18/50\n",
      "1053/1053 [==============================] - 10s 9ms/step - loss: 0.0633 - accuracy: 0.9749\n",
      "Epoch 19/50\n",
      "1053/1053 [==============================] - 10s 10ms/step - loss: 0.0601 - accuracy: 0.9755\n",
      "Epoch 20/50\n",
      "1053/1053 [==============================] - 10s 10ms/step - loss: 0.0562 - accuracy: 0.9769\n",
      "Epoch 21/50\n",
      "1053/1053 [==============================] - 10s 9ms/step - loss: 0.0549 - accuracy: 0.9769\n",
      "Epoch 22/50\n",
      "1053/1053 [==============================] - 10s 10ms/step - loss: 0.0524 - accuracy: 0.9788\n",
      "Epoch 23/50\n",
      "1053/1053 [==============================] - 10s 9ms/step - loss: 0.0495 - accuracy: 0.9796\n",
      "Epoch 24/50\n",
      "1053/1053 [==============================] - 10s 9ms/step - loss: 0.0469 - accuracy: 0.9808\n",
      "Epoch 25/50\n",
      "1053/1053 [==============================] - 10s 9ms/step - loss: 0.0453 - accuracy: 0.9818\n",
      "Epoch 26/50\n",
      "1053/1053 [==============================] - 10s 9ms/step - loss: 0.0421 - accuracy: 0.9821\n",
      "Epoch 27/50\n",
      "1053/1053 [==============================] - 11s 10ms/step - loss: 0.0403 - accuracy: 0.9832\n",
      "Epoch 28/50\n",
      "1053/1053 [==============================] - 10s 9ms/step - loss: 0.0397 - accuracy: 0.9836\n",
      "Epoch 29/50\n",
      "1053/1053 [==============================] - 10s 9ms/step - loss: 0.0353 - accuracy: 0.9858\n",
      "Epoch 30/50\n",
      "1053/1053 [==============================] - 9s 9ms/step - loss: 0.0339 - accuracy: 0.9863\n",
      "Epoch 31/50\n",
      "1053/1053 [==============================] - 10s 9ms/step - loss: 0.0339 - accuracy: 0.9863\n",
      "Epoch 32/50\n",
      "1053/1053 [==============================] - 10s 9ms/step - loss: 0.0306 - accuracy: 0.9876\n",
      "Epoch 33/50\n",
      "1053/1053 [==============================] - 10s 10ms/step - loss: 0.0288 - accuracy: 0.9881\n",
      "Epoch 34/50\n",
      "1053/1053 [==============================] - 10s 9ms/step - loss: 0.0265 - accuracy: 0.9898\n",
      "Epoch 35/50\n",
      "1053/1053 [==============================] - 10s 9ms/step - loss: 0.0259 - accuracy: 0.9895\n",
      "Epoch 36/50\n",
      "1053/1053 [==============================] - 10s 9ms/step - loss: 0.0241 - accuracy: 0.9905\n",
      "Epoch 37/50\n",
      "1053/1053 [==============================] - 10s 10ms/step - loss: 0.0236 - accuracy: 0.9909\n",
      "Epoch 38/50\n",
      "1053/1053 [==============================] - 10s 10ms/step - loss: 0.0230 - accuracy: 0.9911\n",
      "Epoch 39/50\n",
      "1053/1053 [==============================] - 10s 9ms/step - loss: 0.0215 - accuracy: 0.9920\n",
      "Epoch 40/50\n",
      "1053/1053 [==============================] - 10s 10ms/step - loss: 0.0197 - accuracy: 0.9926\n",
      "Epoch 41/50\n",
      "1053/1053 [==============================] - 10s 9ms/step - loss: 0.0195 - accuracy: 0.9924\n",
      "Epoch 42/50\n",
      "1053/1053 [==============================] - 10s 9ms/step - loss: 0.0169 - accuracy: 0.9934\n",
      "Epoch 43/50\n",
      "1053/1053 [==============================] - 10s 9ms/step - loss: 0.0163 - accuracy: 0.9942\n",
      "Epoch 44/50\n",
      "1053/1053 [==============================] - 10s 9ms/step - loss: 0.0194 - accuracy: 0.9928\n",
      "Epoch 45/50\n",
      "1053/1053 [==============================] - 10s 10ms/step - loss: 0.0147 - accuracy: 0.9953\n",
      "Epoch 46/50\n",
      "1053/1053 [==============================] - 10s 10ms/step - loss: 0.0143 - accuracy: 0.9949\n",
      "Epoch 47/50\n",
      "1053/1053 [==============================] - 10s 9ms/step - loss: 0.0144 - accuracy: 0.9952\n",
      "Epoch 48/50\n",
      "1053/1053 [==============================] - 10s 10ms/step - loss: 0.0141 - accuracy: 0.9951\n",
      "Epoch 49/50\n",
      "1053/1053 [==============================] - 10s 9ms/step - loss: 0.0116 - accuracy: 0.9963\n",
      "Epoch 50/50\n",
      "1053/1053 [==============================] - 10s 9ms/step - loss: 0.0130 - accuracy: 0.9960\n",
      "351/351 [==============================] - 3s 5ms/step\n"
     ]
    }
   ],
   "source": [
    "import tensorflow as tf\n",
    "from tensorflow import keras\n",
    "\n",
    "from tensorflow.keras.layers import Embedding, LSTM, Dense\n",
    "from tensorflow.keras.models import Sequential\n",
    "from tensorflow.keras.preprocessing.text import Tokenizer\n",
    "from tensorflow.keras.preprocessing.sequence import pad_sequences\n",
    "\n",
    "X_train, X_test, y_train,y_test = train_test_split(X,y,test_size=0.25,stratify=y,random_state=42)\n",
    "# converting words into token\n",
    "tokenizer = Tokenizer(num_words=500, oov_token = \"<OOV>\")\n",
    "tokenizer.fit_on_texts(X_train)\n",
    "\n",
    "# creating sequences\n",
    "sequences = tokenizer.texts_to_sequences(X_train)\n",
    "\n",
    "\n",
    "# padding sequences\n",
    "padded = pad_sequences(sequences, maxlen=10, padding='post', truncating='post')\n",
    "\n",
    "\n",
    "RNN_model = Sequential()\n",
    "RNN_model.add(Embedding(input_dim=500, output_dim=32, input_length=10))\n",
    "RNN_model.add(LSTM(32))\n",
    "RNN_model.add(Dense(1,activation='sigmoid'))\n",
    "RNN_model.compile(optimizer='adam', loss= 'binary_crossentropy', metrics = ['accuracy'])\n",
    "\n",
    "\n",
    "RNN_model.fit(padded,y_train,epochs=50)\n",
    "sequences_test = tokenizer.texts_to_sequences(X_test)\n",
    "padded_test = pad_sequences(sequences_test, maxlen=10, padding='post', truncating='post')\n",
    "RNN_pred = RNN_model.predict(padded_test)\n",
    "\n"
   ]
  },
  {
   "cell_type": "code",
   "execution_count": 69,
   "id": "f1811f51",
   "metadata": {},
   "outputs": [
    {
     "name": "stdout",
     "output_type": "stream",
     "text": [
      "Accuracy: 0.9494\n",
      "Precision: 0.9450\n",
      "Recall: 0.9591\n",
      "F1-Score: 0.9520\n",
      "\n",
      "Confusion Matrix:\n",
      "[[5026  328]\n",
      " [ 240 5631]]\n"
     ]
    }
   ],
   "source": [
    "from sklearn.metrics import accuracy_score, precision_score, recall_score, f1_score, confusion_matrix\n",
    "\n",
    "threshold = 0.5  \n",
    "binary_predictions = (RNN_pred > threshold).astype(int)\n",
    "\n",
    "# Calculate metrics\n",
    "accuracy = accuracy_score(y_test, binary_predictions)\n",
    "precision = precision_score(y_test, binary_predictions)\n",
    "recall = recall_score(y_test, binary_predictions)\n",
    "f1 = f1_score(y_test, binary_predictions)\n",
    "\n",
    "# Confusion Matrix\n",
    "conf_matrix = confusion_matrix(y_test, binary_predictions)\n",
    "\n",
    "print(f\"Accuracy: {accuracy:.4f}\")\n",
    "print(f\"Precision: {precision:.4f}\")\n",
    "print(f\"Recall: {recall:.4f}\")\n",
    "print(f\"F1-Score: {f1:.4f}\")\n",
    "print(\"\\nConfusion Matrix:\")\n",
    "print(conf_matrix)\n"
   ]
  },
  {
   "cell_type": "code",
   "execution_count": 73,
   "id": "3d854d15",
   "metadata": {},
   "outputs": [],
   "source": [
    "def prediction(news):\n",
    "    news_test = {'news_to_predict':[news]}\n",
    "    df_news = pd.DataFrame(news_test)\n",
    "    df_news['news_to_predict'] = df_news['news_to_predict'].apply(clean_and_lower)\n",
    "    new_X_test = df_news['news_to_predict']\n",
    "    new_X_test = vectorization.transform(new_X_test)\n",
    "    pred_LR = Logistic_model.predict(new_X_test)\n",
    "    pred_DT = DT_model.predict(new_X_test)\n",
    "    \n",
    "    if (pred_LR[0] == 1):\n",
    "        print(\"This News is Fake\")\n",
    "    elif (pred_LR[0] == 0):\n",
    "        print(\"This is an actual News\")"
   ]
  },
  {
   "cell_type": "code",
   "execution_count": 88,
   "id": "3f60032a",
   "metadata": {},
   "outputs": [
    {
     "name": "stdout",
     "output_type": "stream",
     "text": [
      "President Joe Biden’s national security adviser, Jake Sullivan, said Friday that there will be a transition to another phase of the war that is focused on “more precise ways” of targeting Hamas leadership.  “There will be a transition to another phase of this war, one that is focused in more precise ways on targeting the leadership and on intelligence driven operations that continues to deal with the ongoing threat that Hamas poses,” Sullivan said in a news conference in Tel Aviv.  Sullivan also said that the US wants to see results on Israel’s intent to avoid civilian casualties in Gaza.  “Israel selects targets and tries to distinguish between targets that hit Hamas, and those that that might take the lives of innocent civilians,” Sullivan said in response to a question from CNN’s Alex Marquardt.  “What we have consistently said is that Israel has the intent to make sure that it is drawing those distinctions clearly and in a sustainable way. And we want to see the results match up to that,” Sullivan added.  Sullivan was communicating a clear message to Israel’s government, days after a public rift opened between Biden and Israeli Prime Minister Benjamin Netanyahu over the mounting civilian casualties in Gaza.\n",
      "This is an actual News\n"
     ]
    }
   ],
   "source": [
    "news = str(input())\n",
    "prediction(news)"
   ]
  },
  {
   "cell_type": "code",
   "execution_count": 86,
   "id": "1e3eec6f",
   "metadata": {},
   "outputs": [],
   "source": [
    "def prediction_NN(news):\n",
    "    news_test = {'news': [news]}\n",
    "    df_news = pd.DataFrame(news_test)\n",
    "    df_news['news'] = df_news['news'].apply(clean_and_lower)\n",
    "    news_test = df_news['news']\n",
    "    tokenizer.fit_on_texts(news_test)\n",
    "    news_sequences = tokenizer.texts_to_sequences(news_test)\n",
    "    padded_news = pad_sequences(news_sequences, maxlen=10, padding='post', truncating='post')\n",
    "    RNN_pred = RNN_model.predict(padded_news)\n",
    "    \n",
    "    if RNN_pred > 0.5:\n",
    "        print(\"This is an actual News\")\n",
    "        \n",
    "    elif RNN_pred <= 0.5:\n",
    "        print(\"This News is Fake\")\n"
   ]
  },
  {
   "cell_type": "code",
   "execution_count": 89,
   "id": "78eef13f",
   "metadata": {},
   "outputs": [
    {
     "name": "stdout",
     "output_type": "stream",
     "text": [
      "President Joe Biden’s national security adviser, Jake Sullivan, said Friday that there will be a transition to another phase of the war that is focused on “more precise ways” of targeting Hamas leadership.  “There will be a transition to another phase of this war, one that is focused in more precise ways on targeting the leadership and on intelligence driven operations that continues to deal with the ongoing threat that Hamas poses,” Sullivan said in a news conference in Tel Aviv.  Sullivan also said that the US wants to see results on Israel’s intent to avoid civilian casualties in Gaza.  “Israel selects targets and tries to distinguish between targets that hit Hamas, and those that that might take the lives of innocent civilians,” Sullivan said in response to a question from CNN’s Alex Marquardt.  “What we have consistently said is that Israel has the intent to make sure that it is drawing those distinctions clearly and in a sustainable way.\n",
      "1/1 [==============================] - 0s 32ms/step\n",
      "This is an actual News\n"
     ]
    }
   ],
   "source": [
    "news = str(input())\n",
    "prediction_NN(news)"
   ]
  },
  {
   "cell_type": "code",
   "execution_count": null,
   "id": "d3c1072a",
   "metadata": {},
   "outputs": [],
   "source": []
  },
  {
   "cell_type": "code",
   "execution_count": null,
   "id": "0db46a3c",
   "metadata": {},
   "outputs": [],
   "source": []
  }
 ],
 "metadata": {
  "kernelspec": {
   "display_name": "Python 3 (ipykernel)",
   "language": "python",
   "name": "python3"
  },
  "language_info": {
   "codemirror_mode": {
    "name": "ipython",
    "version": 3
   },
   "file_extension": ".py",
   "mimetype": "text/x-python",
   "name": "python",
   "nbconvert_exporter": "python",
   "pygments_lexer": "ipython3",
   "version": "3.11.4"
  }
 },
 "nbformat": 4,
 "nbformat_minor": 5
}
